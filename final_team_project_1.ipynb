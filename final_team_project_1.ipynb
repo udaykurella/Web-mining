{
  "nbformat": 4,
  "nbformat_minor": 0,
  "metadata": {
    "colab": {
      "provenance": []
    },
    "kernelspec": {
      "name": "python3",
      "display_name": "Python 3"
    },
    "language_info": {
      "name": "python"
    }
  },
  "cells": [
    {
      "cell_type": "code",
      "execution_count": 1,
      "metadata": {
        "id": "zW6a9lVLsU8U"
      },
      "outputs": [],
      "source": [
        "import requests\n",
        "from requests.exceptions import RequestException\n",
        "from bs4 import BeautifulSoup\n",
        "import csv\n",
        "import pandas as pd\n",
        "\n",
        "def fetch_html_content(url: str) -> str:\n",
        "    \"\"\"\n",
        "    Fetches the HTML content from the given URL.\n",
        "\n",
        "    Args:\n",
        "        url (str): The URL to fetch the HTML content from.\n",
        "\n",
        "    Returns:\n",
        "        str: The HTML content of the page.\n",
        "\n",
        "    Raises:\n",
        "        RequestException: If the request fails.\n",
        "    \"\"\"\n",
        "    try:\n",
        "        response = requests.get(url)\n",
        "        response.raise_for_status()  # Raise an exception for 4xx or 5xx status codes\n",
        "        return response.text\n",
        "    except RequestException as e:\n",
        "        print(f\"Failed to retrieve the webpage: {e}\")\n",
        "        return \"\""
      ]
    },
    {
      "cell_type": "code",
      "source": [
        "def fetch_page(page_number):\n",
        "    url = f'https://www.rottentomatoes.com/browse/movies_at_home/?page={page_number}'\n",
        "    response = requests.get(url)\n",
        "    return response.text if response.status_code == 200 else None"
      ],
      "metadata": {
        "id": "orP0stf5sb1l"
      },
      "execution_count": 2,
      "outputs": []
    },
    {
      "cell_type": "code",
      "source": [
        "def parse_movies(html_content):\n",
        "    soup = BeautifulSoup(html_content, 'html.parser')\n",
        "    tiles = soup.find_all('div', class_='js-tile-link')\n",
        "    movie_data = []\n",
        "    for tile in tiles:\n",
        "        title_tag = tile.find('span', {'data-qa': 'discovery-media-list-item-title'})\n",
        "        date_tag = tile.find('span', {'data-qa': 'discovery-media-list-item-start-date'})\n",
        "        score_tags = tile.find('score-pairs-deprecated')\n",
        "        if title_tag and date_tag and score_tags:\n",
        "            title = title_tag.get_text(strip=True)\n",
        "            streaming_date = date_tag.get_text(strip=True)\n",
        "            critic_score = score_tags.get('criticsscore')\n",
        "            audience_score = score_tags.get('audiencescore')\n",
        "            url_tag = tile.find('a', {'data-qa': 'discovery-media-list-item-caption'})\n",
        "            url = 'https://www.rottentomatoes.com' + url_tag['href'] if url_tag and 'href' in url_tag.attrs else 'No URL'\n",
        "            movie_data.append([title, url, critic_score, audience_score, streaming_date])\n",
        "    return movie_data"
      ],
      "metadata": {
        "id": "nwO9-p7RsekV"
      },
      "execution_count": 3,
      "outputs": []
    },
    {
      "cell_type": "code",
      "source": [
        "def save_movies_to_csv(movies):\n",
        "    with open('movies.csv', mode='w', newline='', encoding='utf-8') as file:\n",
        "        writer = csv.writer(file)\n",
        "        writer.writerow(['Title', 'URL', 'Critic Score', 'Audience Score', 'Streaming Date'])\n",
        "        for movie in movies:\n",
        "            writer.writerow(movie)"
      ],
      "metadata": {
        "id": "pF7lhMbushk-"
      },
      "execution_count": 4,
      "outputs": []
    },
    {
      "cell_type": "code",
      "source": [
        "def main():\n",
        "    all_movies = []\n",
        "    page = 1\n",
        "    while len(all_movies) < 5500:\n",
        "        html_content = fetch_page(page)\n",
        "        if not html_content:\n",
        "            print(\"No more pages or network error.\")\n",
        "            break\n",
        "        movies = parse_movies(html_content)\n",
        "        all_movies.extend(movies)\n",
        "        print(f\"Retrieved {len(movies)} movies from page {page}. Total: {len(all_movies)}\")\n",
        "        page += 1\n",
        "        if not movies:\n",
        "            print(\"No more movies found, stopping.\")\n",
        "            break\n",
        "\n",
        "    save_movies_to_csv(all_movies)\n",
        "    print(\"Movies saved to CSV.\")\n",
        "\n",
        "if __name__ == \"__main__\":\n",
        "    main()\n",
        "\n",
        "# Reading the CSV file using pandas\n",
        "df = pd.read_csv(\"movies.csv\")\n",
        "print(df)"
      ],
      "metadata": {
        "colab": {
          "base_uri": "https://localhost:8080/"
        },
        "id": "26PKQSTAskUd",
        "outputId": "bb5d3608-a59e-43dc-d575-900dc4fbdedb"
      },
      "execution_count": 7,
      "outputs": [
        {
          "output_type": "stream",
          "name": "stdout",
          "text": [
            "Retrieved 16 movies from page 1. Total: 16\n",
            "Retrieved 36 movies from page 2. Total: 52\n",
            "Retrieved 62 movies from page 3. Total: 114\n",
            "Retrieved 88 movies from page 4. Total: 202\n",
            "Retrieved 110 movies from page 5. Total: 312\n",
            "Retrieved 110 movies from page 6. Total: 422\n",
            "Retrieved 110 movies from page 7. Total: 532\n",
            "Retrieved 110 movies from page 8. Total: 642\n",
            "Retrieved 110 movies from page 9. Total: 752\n",
            "Retrieved 110 movies from page 10. Total: 862\n",
            "Retrieved 110 movies from page 11. Total: 972\n",
            "Retrieved 110 movies from page 12. Total: 1082\n",
            "Retrieved 110 movies from page 13. Total: 1192\n",
            "Retrieved 110 movies from page 14. Total: 1302\n",
            "Retrieved 110 movies from page 15. Total: 1412\n",
            "Retrieved 110 movies from page 16. Total: 1522\n",
            "Retrieved 110 movies from page 17. Total: 1632\n",
            "Retrieved 110 movies from page 18. Total: 1742\n",
            "Retrieved 110 movies from page 19. Total: 1852\n",
            "Retrieved 110 movies from page 20. Total: 1962\n",
            "Retrieved 110 movies from page 21. Total: 2072\n",
            "Retrieved 110 movies from page 22. Total: 2182\n",
            "Retrieved 110 movies from page 23. Total: 2292\n",
            "Retrieved 110 movies from page 24. Total: 2402\n",
            "Retrieved 110 movies from page 25. Total: 2512\n",
            "Retrieved 110 movies from page 26. Total: 2622\n",
            "Retrieved 110 movies from page 27. Total: 2732\n",
            "Retrieved 110 movies from page 28. Total: 2842\n",
            "Retrieved 110 movies from page 29. Total: 2952\n",
            "Retrieved 110 movies from page 30. Total: 3062\n",
            "Retrieved 110 movies from page 31. Total: 3172\n",
            "Retrieved 110 movies from page 32. Total: 3282\n",
            "Retrieved 110 movies from page 33. Total: 3392\n",
            "Retrieved 110 movies from page 34. Total: 3502\n",
            "Retrieved 110 movies from page 35. Total: 3612\n",
            "Retrieved 110 movies from page 36. Total: 3722\n",
            "Retrieved 110 movies from page 37. Total: 3832\n",
            "Retrieved 110 movies from page 38. Total: 3942\n",
            "Retrieved 110 movies from page 39. Total: 4052\n",
            "Retrieved 110 movies from page 40. Total: 4162\n",
            "Retrieved 110 movies from page 41. Total: 4272\n",
            "Retrieved 110 movies from page 42. Total: 4382\n",
            "Retrieved 110 movies from page 43. Total: 4492\n",
            "Retrieved 110 movies from page 44. Total: 4602\n",
            "Retrieved 110 movies from page 45. Total: 4712\n",
            "Retrieved 110 movies from page 46. Total: 4822\n",
            "Retrieved 110 movies from page 47. Total: 4932\n",
            "Retrieved 110 movies from page 48. Total: 5042\n",
            "Retrieved 110 movies from page 49. Total: 5152\n",
            "Retrieved 110 movies from page 50. Total: 5262\n",
            "Retrieved 110 movies from page 51. Total: 5372\n",
            "Retrieved 110 movies from page 52. Total: 5482\n",
            "Retrieved 110 movies from page 53. Total: 5592\n",
            "Movies saved to CSV.\n",
            "                                   Title  \\\n",
            "0                                Abigail   \n",
            "1            Ghostbusters: Frozen Empire   \n",
            "2                  Wicked Little Letters   \n",
            "3     Billy & Molly: An Otter Love Story   \n",
            "4                           Founders Day   \n",
            "...                                  ...   \n",
            "5587                            Saltburn   \n",
            "5588                            Parasite   \n",
            "5589                     Ordinary Angels   \n",
            "5590                    No Hard Feelings   \n",
            "5591                     The Equalizer 3   \n",
            "\n",
            "                                                    URL  Critic Score  \\\n",
            "0         https://www.rottentomatoes.com/m/abigail_2024          84.0   \n",
            "1     https://www.rottentomatoes.com/m/ghostbusters_...          43.0   \n",
            "2     https://www.rottentomatoes.com/m/wicked_little...          79.0   \n",
            "3     https://www.rottentomatoes.com/m/billy_and_mol...         100.0   \n",
            "4         https://www.rottentomatoes.com/m/founders_day          46.0   \n",
            "...                                                 ...           ...   \n",
            "5587          https://www.rottentomatoes.com/m/saltburn          71.0   \n",
            "5588     https://www.rottentomatoes.com/m/parasite_2019          99.0   \n",
            "5589   https://www.rottentomatoes.com/m/ordinary_angels          85.0   \n",
            "5590  https://www.rottentomatoes.com/m/no_hard_feeli...          70.0   \n",
            "5591   https://www.rottentomatoes.com/m/the_equalizer_3          76.0   \n",
            "\n",
            "      Audience Score          Streaming Date  \n",
            "0               85.0   Streaming May 7, 2024  \n",
            "1               83.0   Streaming May 7, 2024  \n",
            "2               91.0   Streaming May 7, 2024  \n",
            "3              100.0   Streaming May 7, 2024  \n",
            "4               12.0   Streaming May 7, 2024  \n",
            "...              ...                     ...  \n",
            "5587            79.0  Streaming Dec 22, 2023  \n",
            "5588            90.0  Streaming Oct 11, 2019  \n",
            "5589            99.0  Streaming Mar 26, 2024  \n",
            "5590            87.0  Streaming Aug 15, 2023  \n",
            "5591            94.0   Streaming Oct 3, 2023  \n",
            "\n",
            "[5592 rows x 5 columns]\n"
          ]
        }
      ]
    },
    {
      "cell_type": "code",
      "source": [
        "import pandas as pd\n",
        "from sklearn.model_selection import train_test_split\n",
        "from sklearn.ensemble import RandomForestClassifier\n",
        "from sklearn.metrics import accuracy_score, confusion_matrix, precision_recall_fscore_support\n",
        "from sklearn.preprocessing import LabelEncoder\n",
        "from sklearn.linear_model import LogisticRegression\n",
        "from sklearn.impute import SimpleImputer\n",
        "from sklearn.pipeline import Pipeline\n",
        "import matplotlib.pyplot as plt\n",
        "import seaborn as sns"
      ],
      "metadata": {
        "id": "XMt3MRGhtlAN"
      },
      "execution_count": 9,
      "outputs": []
    },
    {
      "cell_type": "code",
      "source": [
        "data = pd.read_csv('/content/movies.csv')"
      ],
      "metadata": {
        "id": "b9-7uzbctnlr"
      },
      "execution_count": 10,
      "outputs": []
    },
    {
      "cell_type": "code",
      "source": [
        "print(data['Audience Score'].isnull().sum())\n",
        "data = data.dropna(subset=['Audience Score']) #'Audience Score' is the column with audience scores\n",
        "data['audience_score_binary'] = (data['Audience Score'] >= 50).astype(int)\n",
        "data.drop(columns=['Audience Score'], inplace=True)"
      ],
      "metadata": {
        "colab": {
          "base_uri": "https://localhost:8080/"
        },
        "id": "FIbmF6x2tqBz",
        "outputId": "f5cf1efb-91f0-4ad5-f1af-bd8061498da9"
      },
      "execution_count": 11,
      "outputs": [
        {
          "output_type": "stream",
          "name": "stdout",
          "text": [
            "579\n"
          ]
        },
        {
          "output_type": "stream",
          "name": "stderr",
          "text": [
            "<ipython-input-11-cd2bcd08aebf>:3: SettingWithCopyWarning: \n",
            "A value is trying to be set on a copy of a slice from a DataFrame.\n",
            "Try using .loc[row_indexer,col_indexer] = value instead\n",
            "\n",
            "See the caveats in the documentation: https://pandas.pydata.org/pandas-docs/stable/user_guide/indexing.html#returning-a-view-versus-a-copy\n",
            "  data['audience_score_binary'] = (data['Audience Score'] >= 50).astype(int)\n",
            "<ipython-input-11-cd2bcd08aebf>:4: SettingWithCopyWarning: \n",
            "A value is trying to be set on a copy of a slice from a DataFrame\n",
            "\n",
            "See the caveats in the documentation: https://pandas.pydata.org/pandas-docs/stable/user_guide/indexing.html#returning-a-view-versus-a-copy\n",
            "  data.drop(columns=['Audience Score'], inplace=True)\n"
          ]
        }
      ]
    },
    {
      "cell_type": "code",
      "source": [
        "le = LabelEncoder()\n",
        "for column in data.columns[data.dtypes == 'object']:\n",
        "    data[column] = le.fit_transform(data[column])"
      ],
      "metadata": {
        "id": "VKrEOM4CtuCE"
      },
      "execution_count": 12,
      "outputs": []
    },
    {
      "cell_type": "code",
      "source": [
        "X = data.drop('audience_score_binary', axis=1)\n",
        "y = data['audience_score_binary']"
      ],
      "metadata": {
        "id": "03nlNwCotx7D"
      },
      "execution_count": 13,
      "outputs": []
    },
    {
      "cell_type": "code",
      "source": [
        "X_train, X_test, y_train, y_test = train_test_split(X, y, test_size=0.25, random_state=42)\n",
        "imputer = SimpleImputer(strategy='median')\n",
        "X_train = imputer.fit_transform(X_train)\n",
        "X_test = imputer.transform(X_test)\n"
      ],
      "metadata": {
        "id": "cE1vK2Pft2Ts"
      },
      "execution_count": 15,
      "outputs": []
    },
    {
      "cell_type": "code",
      "source": [
        "model = LogisticRegression()"
      ],
      "metadata": {
        "id": "87kuGULXuF4T"
      },
      "execution_count": 16,
      "outputs": []
    },
    {
      "cell_type": "code",
      "source": [
        "pipeline = Pipeline([\n",
        "    ('logistic_regression', model)\n",
        "])\n",
        "\n",
        "pipeline.fit(X_train, y_train)\n",
        "y_pred = pipeline.predict(X_test)"
      ],
      "metadata": {
        "id": "d3l9d7VcuI9r"
      },
      "execution_count": 17,
      "outputs": []
    },
    {
      "cell_type": "code",
      "source": [
        "accuracy = accuracy_score(y_test, y_pred)\n",
        "print(\"Accuracy:\", accuracy)"
      ],
      "metadata": {
        "colab": {
          "base_uri": "https://localhost:8080/"
        },
        "id": "ep74ocfFuMPt",
        "outputId": "8f32772e-a68e-468e-d218-1fd4275af06e"
      },
      "execution_count": 18,
      "outputs": [
        {
          "output_type": "stream",
          "name": "stdout",
          "text": [
            "Accuracy: 0.8899521531100478\n"
          ]
        }
      ]
    },
    {
      "cell_type": "code",
      "source": [
        "cm = confusion_matrix(y_test, y_pred)\n",
        "sns.heatmap(cm, annot=True, fmt='d', cmap='Blues')\n",
        "plt.title('Confusion Matrix')\n",
        "plt.xlabel('Predicted')\n",
        "plt.ylabel('True')\n",
        "plt.show()"
      ],
      "metadata": {
        "colab": {
          "base_uri": "https://localhost:8080/",
          "height": 472
        },
        "id": "b-atgR-kuOZV",
        "outputId": "fe00dc03-a126-496b-8fad-e03dfc007ad9"
      },
      "execution_count": 19,
      "outputs": [
        {
          "output_type": "display_data",
          "data": {
            "text/plain": [
              "<Figure size 640x480 with 2 Axes>"
            ],
            "image/png": "[encoded data removed]"
          },
          "metadata": {}
        }
      ]
    },
    {
      "cell_type": "code",
      "source": [
        "precision, recall, f1, _ = precision_recall_fscore_support(y_test, y_pred, average='binary')\n",
        "print(\"Precision:\", precision)\n",
        "print(\"Recall:\", recall)\n",
        "print(\"F1 Score:\", f1)"
      ],
      "metadata": {
        "colab": {
          "base_uri": "https://localhost:8080/"
        },
        "id": "1KCX5rROuRMs",
        "outputId": "8aaf0a49-9908-42ad-8ec2-909e3cdd97da"
      },
      "execution_count": 20,
      "outputs": [
        {
          "output_type": "stream",
          "name": "stdout",
          "text": [
            "Precision: 0.8980099502487562\n",
            "Recall: 0.9863387978142076\n",
            "F1 Score: 0.9401041666666667\n"
          ]
        }
      ]
    }
  ]
}